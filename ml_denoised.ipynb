{
 "cells": [
  {
   "cell_type": "markdown",
   "metadata": {},
   "source": [
    "## Tangent space ML"
   ]
  },
  {
   "cell_type": "code",
   "execution_count": 1,
   "metadata": {},
   "outputs": [
    {
     "name": "stderr",
     "output_type": "stream",
     "text": [
      "INFO: Using numpy backend\n",
      "INFO: Note: NumExpr detected 12 cores but \"NUMEXPR_MAX_THREADS\" not set, so enforcing safe limit of 8.\n",
      "INFO: NumExpr defaulting to 8 threads.\n"
     ]
    },
    {
     "name": "stdout",
     "output_type": "stream",
     "text": [
      "Loading denoised dataset of Chapman Shaoxing 12-lead ECG Data...\n"
     ]
    },
    {
     "name": "stderr",
     "output_type": "stream",
     "text": [
      "100%|██████████| 10646/10646 [00:55<00:00, 193.24it/s] \n"
     ]
    }
   ],
   "source": [
    "from geomstats.geometry.spd_matrices import SPDMatrices\n",
    "from geomstats.learning.preprocessing import ToTangentSpace\n",
    "from sklearn.pipeline import Pipeline\n",
    "from sklearn.preprocessing import StandardScaler\n",
    "from sklearn.linear_model import LogisticRegression\n",
    "from sklearn.model_selection import train_test_split\n",
    "from data_util import *\n",
    "import numpy as np\n",
    "\n",
    "spd_manifold = SPDMatrices(n=12)\n",
    "\n",
    "\n",
    "mat, all_ids, targets = dn_load_Chapman_ECG()\n",
    "mat = np.asarray(mat)"
   ]
  },
  {
   "cell_type": "code",
   "execution_count": 2,
   "metadata": {},
   "outputs": [
    {
     "name": "stdout",
     "output_type": "stream",
     "text": [
      "0\n",
      "(9058, 12, 12)\n"
     ]
    }
   ],
   "source": [
    "cnt = 0\n",
    "for i in range(len(mat)):\n",
    "    if not spd_manifold.belongs(mat[i]):\n",
    "        cnt +=1\n",
    "print(cnt)\n",
    "# 9063, 5  (before removing data that do not lie on the manifold)\n",
    "print(mat.shape)"
   ]
  },
  {
   "cell_type": "code",
   "execution_count": 3,
   "metadata": {},
   "outputs": [
    {
     "name": "stdout",
     "output_type": "stream",
     "text": [
      "Accuracy:0.48 \n",
      "           pred:AFIB  pred:SR  pred:SB  pred:ST\n",
      "true:AFIB      0.661    0.092    0.119    0.128\n",
      "true:SR        0.123    0.372    0.271    0.234\n",
      "true:SB        0.161    0.247    0.477    0.115\n",
      "true:ST        0.245    0.214    0.151    0.391\n"
     ]
    },
    {
     "name": "stderr",
     "output_type": "stream",
     "text": [
      "/home/mbiswal/anaconda3/lib/python3.9/site-packages/sklearn/linear_model/_sag.py:352: ConvergenceWarning: The max_iter was reached which means the coef_ did not converge\n",
      "  warnings.warn(\n"
     ]
    }
   ],
   "source": [
    "lr_pipeline = Pipeline(\n",
    "    steps=[\n",
    "        (\"trick_tangent_space\", ToTangentSpace(geometry=spd_manifold.metric)),\n",
    "        (\"standardscaler\", StandardScaler()),\n",
    "        (\"classifier\", LogisticRegression(C=1.0, max_iter=100, solver='saga', class_weight='balanced')),\n",
    "    ]\n",
    ")\n",
    "\n",
    "X = mat\n",
    "y = targets\n",
    "X_train, X_test, y_train, y_test = train_test_split(X, y)\n",
    "lr_pipeline.fit(X_train, y_train)\n",
    "\n",
    "print(\"Accuracy:{:.2f} \".format(lr_pipeline.score(X_test, y_test)))\n",
    "y_pred = lr_pipeline.predict(X_test)\n",
    "cmtx = get_confusion_matrix(y_test=y_test, y_pred=y_pred, target_class_list=[\"AFIB\", \"SR\", \"SB\", \"ST\"])\n",
    "print(cmtx)"
   ]
  },
  {
   "cell_type": "code",
   "execution_count": 4,
   "metadata": {},
   "outputs": [
    {
     "name": "stdout",
     "output_type": "stream",
     "text": [
      "Accuracy:0.50 \n",
      "           pred:AFIB  pred:SR  pred:SB  pred:ST\n",
      "true:AFIB      0.490    0.022    0.371    0.116\n",
      "true:SR        0.068    0.118    0.680    0.134\n",
      "true:SB        0.081    0.050    0.804    0.065\n",
      "true:ST        0.199    0.101    0.501    0.199\n"
     ]
    }
   ],
   "source": [
    "from sklearn.neural_network import MLPClassifier\n",
    "import traceback\n",
    "import sys\n",
    "\n",
    "\"\"\"\n",
    "try:\n",
    "    data_in_ts = ToTangentSpace(geometry=spd_manifold.metric)\n",
    "    ts_data = data_in_ts.fit(X=mat)\n",
    "except Exception:\n",
    "    print(traceback.format_exc())\n",
    "\"\"\"\n",
    "\n",
    "lr_pipeline = Pipeline(\n",
    "    steps=[\n",
    "        (\"trick_tangent_space\", ToTangentSpace(geometry=spd_manifold.metric)),\n",
    "        (\"standardscaler\", StandardScaler()),\n",
    "        (\"classifier\", MLPClassifier(hidden_layer_sizes=(30,30,30,30),learning_rate='adaptive',alpha=1.0,max_iter=10000)),\n",
    "    ]\n",
    ")\n",
    "\n",
    "X = mat\n",
    "y = targets\n",
    "X_train, X_test, y_train, y_test = train_test_split(X, y)\n",
    "lr_pipeline.fit(X_train, y_train)\n",
    "\n",
    "print(\"Accuracy:{:.2f} \".format(lr_pipeline.score(X_test, y_test)))\n",
    "y_pred = lr_pipeline.predict(X_test)\n",
    "cmtx = get_confusion_matrix(y_test=y_test, y_pred=y_pred, target_class_list=[\"AFIB\", \"SR\", \"SB\", \"ST\"])\n",
    "print(cmtx)"
   ]
  },
  {
   "cell_type": "markdown",
   "metadata": {},
   "source": [
    "## Riemannian KMeans clustering"
   ]
  },
  {
   "cell_type": "code",
   "execution_count": 4,
   "metadata": {},
   "outputs": [
    {
     "data": {
      "text/plain": [
       "array([ True,  True])"
      ]
     },
     "execution_count": 4,
     "metadata": {},
     "output_type": "execute_result"
    }
   ],
   "source": [
    "from geomstats.learning.kmeans import RiemannianKMeans\n",
    "\n",
    "kmeans = RiemannianKMeans(spd_manifold.metric, n_clusters=2, max_iter=50, init='kmeans++')  # alter max_iter\n",
    "\n",
    "# using same test, train split as above. Labels y_train, y_test are assumed to be lost\n",
    "\n",
    "centroids = kmeans.fit(X_train)\n",
    "spd_manifold.belongs(centroids)\n"
   ]
  },
  {
   "cell_type": "code",
   "execution_count": 5,
   "metadata": {},
   "outputs": [
    {
     "name": "stdout",
     "output_type": "stream",
     "text": [
      "0 -->  SR\n",
      "0 -->  SR\n",
      "0 -->  AF\n",
      "1 -->  SR\n",
      "0 -->  SR\n",
      "1 -->  AF\n",
      "1 -->  SR\n",
      "1 -->  SR\n",
      "0 -->  AF\n",
      "1 -->  AF\n"
     ]
    }
   ],
   "source": [
    "predicted_labels = kmeans.predict(X_train)\n",
    "for i in range(10):\n",
    "    print(predicted_labels[i], \"--> \", y_train[i])"
   ]
  },
  {
   "attachments": {},
   "cell_type": "markdown",
   "metadata": {},
   "source": [
    "# MDM"
   ]
  },
  {
   "cell_type": "code",
   "execution_count": 5,
   "metadata": {},
   "outputs": [
    {
     "name": "stdout",
     "output_type": "stream",
     "text": [
      "Log Euclidean Metric\n",
      "0.4194260485651214\n",
      "\n",
      "Euclidean Metric\n",
      "0.3726269315673289\n",
      "\n",
      "Bures Wasserstein Metric\n",
      "0.3801324503311258\n",
      "\n",
      "Affine Metric\n",
      "0.3818984547461369\n"
     ]
    }
   ],
   "source": [
    "from geomstats.learning.mdm import RiemannianMinimumDistanceToMean\n",
    "from geomstats.geometry.spd_matrices import *\n",
    "\n",
    "#spd_manifold = SPDMatrices(n=12)\n",
    "\n",
    "X = mat\n",
    "y = targets\n",
    "X_train, X_test, y_train, y_test = train_test_split(X, y)\n",
    "\n",
    "\n",
    "mdm = RiemannianMinimumDistanceToMean(\n",
    "    riemannian_metric=SPDLogEuclideanMetric(n=12))\n",
    "mdm.fit(X_train, np.array(y_train))\n",
    "print('Log Euclidean Metric')\n",
    "print(mdm.score(X_test, y_test))\n",
    "\n",
    "\n",
    "mdm = RiemannianMinimumDistanceToMean(\n",
    "    riemannian_metric=SPDEuclideanMetric(n=12))\n",
    "mdm.fit(X_train, np.array(y_train))\n",
    "print('\\nEuclidean Metric')\n",
    "print(mdm.score(X_test, y_test))\n",
    "\n",
    "mdm = RiemannianMinimumDistanceToMean(\n",
    "    riemannian_metric=SPDBuresWassersteinMetric(n=12))\n",
    "mdm.fit(X_train, np.array(y_train))\n",
    "print('\\nBures Wasserstein Metric')\n",
    "print(mdm.score(X_test, y_test))\n",
    "\n",
    "mdm = RiemannianMinimumDistanceToMean(\n",
    "    riemannian_metric=SPDAffineMetric(n=12))\n",
    "mdm.fit(X_train, np.array(y_train))\n",
    "print('\\nAffine Metric')\n",
    "print(mdm.score(X_test, y_test))"
   ]
  },
  {
   "cell_type": "code",
   "execution_count": null,
   "metadata": {},
   "outputs": [],
   "source": []
  }
 ],
 "metadata": {
  "kernelspec": {
   "display_name": "Python (myenv)",
   "language": "python",
   "name": "myenv"
  },
  "language_info": {
   "codemirror_mode": {
    "name": "ipython",
    "version": 3
   },
   "file_extension": ".py",
   "mimetype": "text/x-python",
   "name": "python",
   "nbconvert_exporter": "python",
   "pygments_lexer": "ipython3",
   "version": "3.9.13"
  },
  "vscode": {
   "interpreter": {
    "hash": "017ac8a0813a894857ac85c3080468aa30be6f181b5c5e953892ff115d2acc76"
   }
  }
 },
 "nbformat": 4,
 "nbformat_minor": 2
}
