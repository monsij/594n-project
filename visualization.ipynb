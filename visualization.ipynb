{
 "cells": [
  {
   "cell_type": "code",
   "execution_count": 1,
   "metadata": {},
   "outputs": [
    {
     "name": "stderr",
     "output_type": "stream",
     "text": [
      "INFO: Using numpy backend\n"
     ]
    },
    {
     "name": "stdout",
     "output_type": "stream",
     "text": [
      "/Users/monsijb/gitrepo/594n-project/geomstats/geometry/spd_matrices.py\n"
     ]
    },
    {
     "name": "stderr",
     "output_type": "stream",
     "text": [
      "100%|██████████| 10646/10646 [11:32<00:00, 15.36it/s]"
     ]
    },
    {
     "name": "stdout",
     "output_type": "stream",
     "text": [
      "Percentage of cov on manifold: 46.98\n"
     ]
    },
    {
     "name": "stderr",
     "output_type": "stream",
     "text": [
      "\n"
     ]
    }
   ],
   "source": [
    "# Percentage of data on manifold (new data)\n",
    "import glob\n",
    "import scipy.io\n",
    "import numpy as np\n",
    "import os\n",
    "from tqdm import tqdm\n",
    "import geomstats.geometry.spd_matrices as spd\n",
    "import geomstats.backend as gs\n",
    "from data_util import get_single_data \n",
    "\n",
    "manifold = spd.SPDMatrices(12)\n",
    "\n",
    "print(spd.__file__)\n",
    "base_path = './ChapmanECG/fulldata/'\n",
    "csv_files = glob.glob(base_path + '*.csv')\n",
    "\n",
    "on_manifold = 0\n",
    "total = len(csv_files)\n",
    "\n",
    "for csv_file in tqdm(csv_files):\n",
    "    patient_id = os.path.split(csv_file)[-1][:-4]\n",
    "    mat, _ = get_single_data(patient_id = patient_id)\n",
    "    #print(mat.shape)\n",
    "    cov_mat = np.cov(mat.T)\n",
    "    #corr_coef = np.ones((12,12))\n",
    "    if gs.all(manifold.belongs(cov_mat)):\n",
    "        on_manifold += 1\n",
    "\n",
    "print(\"Percentage of cov on manifold: {:.2f}\".format((on_manifold/total)*100))"
   ]
  },
  {
   "cell_type": "code",
   "execution_count": 4,
   "metadata": {},
   "outputs": [
    {
     "name": "stdout",
     "output_type": "stream",
     "text": [
      "/Users/monsijb/gitrepo/594n-project/geomstats/geometry/spd_matrices.py\n"
     ]
    },
    {
     "name": "stderr",
     "output_type": "stream",
     "text": [
      "100%|██████████| 10247/10247 [00:08<00:00, 1279.70it/s]"
     ]
    },
    {
     "name": "stdout",
     "output_type": "stream",
     "text": [
      "Percentage of cov on manifold: 99.85\n"
     ]
    },
    {
     "name": "stderr",
     "output_type": "stream",
     "text": [
      "\n"
     ]
    }
   ],
   "source": [
    "# Percentage of data on manifold (old data)\n",
    "import glob\n",
    "import scipy.io\n",
    "import numpy as np\n",
    "import geomstats.geometry.spd_matrices as spd\n",
    "import geomstats.backend as gs\n",
    "manifold = spd.SPDMatrices(12)\n",
    "\n",
    "print(spd.__file__)\n",
    "base_path = './WFDB/'\n",
    "mat_files = glob.glob(base_path + '*.mat')\n",
    "\n",
    "on_manifold = 0\n",
    "total = len(mat_files)\n",
    "\n",
    "for mat_file in tqdm(mat_files):\n",
    "    mat = scipy.io.loadmat(mat_file)['val']\n",
    "    cov_mat = np.cov(mat)\n",
    "    #corr_coef = np.ones((12,12))\n",
    "    if gs.all(manifold.belongs(cov_mat)):\n",
    "        on_manifold += 1\n",
    "\n",
    "print(\"Percentage of cov on manifold: {:.2f}\".format((on_manifold/total)*100))\n"
   ]
  },
  {
   "cell_type": "code",
   "execution_count": null,
   "metadata": {},
   "outputs": [],
   "source": []
  }
 ],
 "metadata": {
  "kernelspec": {
   "display_name": "gitrepo-qF1_kxzJ",
   "language": "python",
   "name": "gitrepo-qf1_kxzj"
  },
  "language_info": {
   "codemirror_mode": {
    "name": "ipython",
    "version": 3
   },
   "file_extension": ".py",
   "mimetype": "text/x-python",
   "name": "python",
   "nbconvert_exporter": "python",
   "pygments_lexer": "ipython3",
   "version": "3.9.4"
  },
  "orig_nbformat": 4,
  "vscode": {
   "interpreter": {
    "hash": "017ac8a0813a894857ac85c3080468aa30be6f181b5c5e953892ff115d2acc76"
   }
  }
 },
 "nbformat": 4,
 "nbformat_minor": 2
}
